{
 "cells": [
  {
   "cell_type": "code",
   "execution_count": 2,
   "id": "initial_id",
   "metadata": {
    "ExecuteTime": {
     "end_time": "2025-01-02T13:17:14.704020Z",
     "start_time": "2025-01-02T13:17:14.702048Z"
    },
    "collapsed": true
   },
   "outputs": [
    {
     "name": "stdout",
     "output_type": "stream",
     "text": [
      "What You Want To Print\n",
      "What You Want To Print\n"
     ]
    }
   ],
   "source": [
    "print(\"What You Want To Print\")\n",
    "print('What You Want To Print')"
   ]
  },
  {
   "cell_type": "markdown",
   "id": "5335ea00ef590032",
   "metadata": {},
   "source": [
    "Example 1-1 (Strings)"
   ]
  },
  {
   "cell_type": "code",
   "execution_count": 3,
   "id": "10d7ac53ea1c282f",
   "metadata": {
    "ExecuteTime": {
     "end_time": "2025-01-02T13:17:16.196652Z",
     "start_time": "2025-01-02T13:17:16.176279Z"
    }
   },
   "outputs": [
    {
     "name": "stdout",
     "output_type": "stream",
     "text": [
      "Hello Python World!\n"
     ]
    }
   ],
   "source": [
    "print(\"Hello Python World!\")"
   ]
  },
  {
   "cell_type": "markdown",
   "id": "60efc28ee701f628",
   "metadata": {},
   "source": [
    "Example 1-2"
   ]
  },
  {
   "cell_type": "code",
   "execution_count": 4,
   "id": "44708760aef95580",
   "metadata": {
    "ExecuteTime": {
     "end_time": "2025-01-02T13:17:17.396064Z",
     "start_time": "2025-01-02T13:17:17.393359Z"
    }
   },
   "outputs": [
    {
     "name": "stdout",
     "output_type": "stream",
     "text": [
      "Hello\n",
      "Python\n",
      "World\n"
     ]
    }
   ],
   "source": [
    "print(\"Hello\")\n",
    "print(\"Python\")\n",
    "print(\"World\")"
   ]
  },
  {
   "cell_type": "markdown",
   "id": "47b50a5a4094aca8",
   "metadata": {},
   "source": [
    "Example 1-3 (Integers)"
   ]
  },
  {
   "cell_type": "code",
   "execution_count": 5,
   "id": "692c9a6f139a3b6d",
   "metadata": {
    "ExecuteTime": {
     "end_time": "2025-01-02T13:17:19.864687Z",
     "start_time": "2025-01-02T13:17:19.855390Z"
    }
   },
   "outputs": [
    {
     "name": "stdout",
     "output_type": "stream",
     "text": [
      "13\n",
      "123456789\n"
     ]
    }
   ],
   "source": [
    "print(13)\n",
    "print(123456789)"
   ]
  },
  {
   "cell_type": "markdown",
   "id": "2c7f4e07cd29c4ff",
   "metadata": {},
   "source": [
    "Example 1-4 (Iterations)"
   ]
  },
  {
   "cell_type": "code",
   "execution_count": 6,
   "id": "2a99c0711e0e3dc7",
   "metadata": {
    "ExecuteTime": {
     "end_time": "2025-01-02T13:17:23.252245Z",
     "start_time": "2025-01-02T13:17:23.249520Z"
    }
   },
   "outputs": [
    {
     "name": "stdout",
     "output_type": "stream",
     "text": [
      "HelloHelloHello\n",
      ":):):):):):):):):):)\n"
     ]
    }
   ],
   "source": [
    "print(\"Hello\" * 3)\n",
    "print(\":)\" * 10)"
   ]
  },
  {
   "cell_type": "markdown",
   "id": "14c6089ca1734c75",
   "metadata": {},
   "source": [
    "Practice Problem #1-1: Fill out the blanks and print the following"
   ]
  },
  {
   "cell_type": "code",
   "execution_count": 10,
   "id": "7cff85c065aef1f1",
   "metadata": {
    "ExecuteTime": {
     "end_time": "2024-12-18T14:59:04.481529Z",
     "start_time": "2024-12-18T14:59:04.474523Z"
    }
   },
   "outputs": [
    {
     "name": "stdout",
     "output_type": "stream",
     "text": [
      "My name is ___ and I am __ years old\n",
      "My favorite class in DIS is ___.\n"
     ]
    }
   ],
   "source": []
  },
  {
   "cell_type": "markdown",
   "id": "b4dcd7484d577bb2",
   "metadata": {},
   "source": [
    "Practice Problem #1-2: Print the Following\n"
   ]
  },
  {
   "cell_type": "code",
   "execution_count": 7,
   "id": "9ec7701ebde9779e",
   "metadata": {
    "ExecuteTime": {
     "end_time": "2025-01-02T13:17:25.948488Z",
     "start_time": "2025-01-02T13:17:25.945557Z"
    }
   },
   "outputs": [
    {
     "name": "stdout",
     "output_type": "stream",
     "text": [
      "5 + 3 = 8\n",
      "1 + 2 = 3\n"
     ]
    }
   ],
   "source": [
    "print(\"5 + 3 = 8\")\n",
    "print(\"1 + 2 = 3\")"
   ]
  },
  {
   "cell_type": "markdown",
   "id": "e7b45c8918a977c4",
   "metadata": {},
   "source": [
    "Various Print Methods"
   ]
  },
  {
   "cell_type": "code",
   "execution_count": 8,
   "id": "bfd6e49826ab2cd1",
   "metadata": {
    "ExecuteTime": {
     "end_time": "2025-01-02T13:17:34.062257Z",
     "start_time": "2025-01-02T13:17:34.057266Z"
    }
   },
   "outputs": [
    {
     "name": "stdout",
     "output_type": "stream",
     "text": [
      "Hello\n",
      "World\n"
     ]
    }
   ],
   "source": [
    "print(\"Hello\")\n",
    "print(\"World\")"
   ]
  },
  {
   "cell_type": "code",
   "execution_count": 9,
   "id": "9077a91e9457f1d2",
   "metadata": {
    "ExecuteTime": {
     "end_time": "2025-01-02T13:17:35.476019Z",
     "start_time": "2025-01-02T13:17:35.473771Z"
    }
   },
   "outputs": [
    {
     "name": "stdout",
     "output_type": "stream",
     "text": [
      "Hello World\n",
      "HelloWorld\n"
     ]
    }
   ],
   "source": [
    "print(\"Hello\", \"World\")\n",
    "print(\"Hello\" + \"World\")"
   ]
  },
  {
   "cell_type": "code",
   "execution_count": 10,
   "id": "4f4c737331513848",
   "metadata": {
    "ExecuteTime": {
     "end_time": "2025-01-02T13:17:36.726074Z",
     "start_time": "2025-01-02T13:17:36.719677Z"
    }
   },
   "outputs": [
    {
     "name": "stdout",
     "output_type": "stream",
     "text": [
      "Helloworld\n"
     ]
    }
   ],
   "source": [
    "print(\"Hello\", end= \"\")\n",
    "print(\"world\")"
   ]
  },
  {
   "cell_type": "code",
   "execution_count": 11,
   "id": "b61184a98f0564f",
   "metadata": {
    "ExecuteTime": {
     "end_time": "2025-01-02T13:17:38.541993Z",
     "start_time": "2025-01-02T13:17:38.504435Z"
    }
   },
   "outputs": [
    {
     "name": "stdout",
     "output_type": "stream",
     "text": [
      "Hello---world\n"
     ]
    }
   ],
   "source": [
    "print(\"Hello\", end= \"---\")\n",
    "print(\"world\")"
   ]
  },
  {
   "cell_type": "code",
   "execution_count": 12,
   "id": "a057118eb4bb1b",
   "metadata": {
    "ExecuteTime": {
     "end_time": "2025-01-02T13:17:39.685522Z",
     "start_time": "2025-01-02T13:17:39.681941Z"
    }
   },
   "outputs": [
    {
     "name": "stdout",
     "output_type": "stream",
     "text": [
      "Hello,World\n"
     ]
    }
   ],
   "source": [
    "print(\"Hello\", \"World\", sep=\",\" )"
   ]
  },
  {
   "cell_type": "markdown",
   "id": "9389e6020eec1954",
   "metadata": {},
   "source": [
    "String Return Function"
   ]
  },
  {
   "cell_type": "markdown",
   "id": "e3d6ba53790d5dd5",
   "metadata": {},
   "source": [
    "Example 1-5"
   ]
  },
  {
   "cell_type": "code",
   "execution_count": 13,
   "id": "a84c0b54bf4ee1e7",
   "metadata": {
    "ExecuteTime": {
     "end_time": "2025-01-02T13:17:42.159405Z",
     "start_time": "2025-01-02T13:17:42.143079Z"
    }
   },
   "outputs": [
    {
     "name": "stdout",
     "output_type": "stream",
     "text": [
      "I am 13 years old\n",
      "I am 13years old\n"
     ]
    }
   ],
   "source": [
    " print(\"I am 13 years old\")\n",
    " print(\"I am \" + str(13) + \"years old\")"
   ]
  },
  {
   "cell_type": "markdown",
   "id": "c5501150963e2f1c",
   "metadata": {},
   "source": [
    "Example 1-6"
   ]
  },
  {
   "cell_type": "code",
   "execution_count": 14,
   "id": "b1ccf235286a088e",
   "metadata": {
    "ExecuteTime": {
     "end_time": "2025-01-02T13:17:44.802083Z",
     "start_time": "2025-01-02T13:17:44.354152Z"
    }
   },
   "outputs": [
    {
     "ename": "TypeError",
     "evalue": "can only concatenate str (not \"int\") to str",
     "output_type": "error",
     "traceback": [
      "\u001b[0;31m---------------------------------------------------------------------------\u001b[0m",
      "\u001b[0;31mTypeError\u001b[0m                                 Traceback (most recent call last)",
      "Cell \u001b[0;32mIn[14], line 1\u001b[0m\n\u001b[0;32m----> 1\u001b[0m \u001b[38;5;28mprint\u001b[39m(\u001b[38;5;124m\"\u001b[39m\u001b[38;5;124mI am \u001b[39m\u001b[38;5;124m\"\u001b[39m \u001b[38;5;241m+\u001b[39m \u001b[38;5;241m13\u001b[39m \u001b[38;5;241m+\u001b[39m \u001b[38;5;124m\"\u001b[39m\u001b[38;5;124myears old\u001b[39m\u001b[38;5;124m\"\u001b[39m)\n",
      "\u001b[0;31mTypeError\u001b[0m: can only concatenate str (not \"int\") to str"
     ]
    }
   ],
   "source": [
    " print(\"I am \" + 13 + \"years old\")"
   ]
  },
  {
   "cell_type": "markdown",
   "id": "f0cfca3bb8baa247",
   "metadata": {},
   "source": [
    "Special Character Printing"
   ]
  },
  {
   "cell_type": "markdown",
   "id": "5114c45bc094866b",
   "metadata": {},
   "source": [
    "Example 1-7"
   ]
  },
  {
   "cell_type": "code",
   "execution_count": 15,
   "id": "e3879856cbb8f764",
   "metadata": {
    "ExecuteTime": {
     "end_time": "2025-01-02T13:17:48.063143Z",
     "start_time": "2025-01-02T13:17:48.055338Z"
    }
   },
   "outputs": [
    {
     "name": "stdout",
     "output_type": "stream",
     "text": [
      "\"CSCC\"\n",
      "\n",
      "\\Student List\\\n",
      "Name\tAge\tFavourite Fruit\n",
      "Yujun\t16\tMango\n",
      "Jake\t16\tDragonfruit\n"
     ]
    }
   ],
   "source": [
    "print(\"\\\"CSCC\\\"\\n\")\n",
    "print(\"\\\\Student List\\\\\")\n",
    "print(\"Name\\tAge\\tFavourite Fruit\")\n",
    "print(\"Yujun\\t16\\tMango\")\n",
    "print(\"Jake\\t16\\tDragonfruit\")"
   ]
  },
  {
   "cell_type": "markdown",
   "id": "9115b207f2bbcb95",
   "metadata": {},
   "source": [
    "Example 1-8"
   ]
  },
  {
   "cell_type": "code",
   "execution_count": 16,
   "id": "9c6c6516565eee21",
   "metadata": {
    "ExecuteTime": {
     "end_time": "2025-01-02T13:17:50.153211Z",
     "start_time": "2025-01-02T13:17:50.150761Z"
    }
   },
   "outputs": [
    {
     "name": "stdout",
     "output_type": "stream",
     "text": [
      "\n",
      "One day, Jake woke up.\n",
      "Then, he made a groundbreaking discovery.\n",
      "He could print multiple lines of string at once.\n",
      "All he needed to do was provide three quotation marks.\n",
      "\n"
     ]
    }
   ],
   "source": [
    "print(\"\"\"\n",
    "One day, Jake woke up.\n",
    "Then, he made a groundbreaking discovery.\n",
    "He could print multiple lines of string at once.\n",
    "All he needed to do was provide three quotation marks.\n",
    "\"\"\")"
   ]
  },
  {
   "cell_type": "markdown",
   "id": "b2da252424770a35",
   "metadata": {},
   "source": [
    "Example 1-9"
   ]
  },
  {
   "cell_type": "code",
   "execution_count": 17,
   "id": "270fc529c9af6eb",
   "metadata": {
    "ExecuteTime": {
     "end_time": "2025-01-02T13:17:52.044908Z",
     "start_time": "2025-01-02T13:17:52.042084Z"
    }
   },
   "outputs": [
    {
     "name": "stdout",
     "output_type": "stream",
     "text": [
      "One day\n",
      "Jake woke up.\n",
      "Then, he slept again.\n"
     ]
    }
   ],
   "source": [
    "print(\"One day\\nJake woke up.\\nThen, he slept again.\")"
   ]
  },
  {
   "cell_type": "markdown",
   "id": "1b17b07f8e366f8c",
   "metadata": {},
   "source": [
    "Chapter 1 Exercises!"
   ]
  },
  {
   "cell_type": "code",
   "execution_count": 16,
   "id": "bd268089f5bfc0f5",
   "metadata": {
    "ExecuteTime": {
     "end_time": "2024-12-18T15:09:54.315200Z",
     "start_time": "2024-12-18T15:09:54.298325Z"
    }
   },
   "outputs": [
    {
     "name": "stdout",
     "output_type": "stream",
     "text": [
      "Then he said, \"Hi? I am Tommy.\"\n"
     ]
    }
   ],
   "source": [
    "# Exercise 1: Printing a string with special characters\n"
   ]
  },
  {
   "cell_type": "code",
   "execution_count": 17,
   "id": "3a104001d9e38a37",
   "metadata": {
    "ExecuteTime": {
     "end_time": "2024-12-18T15:10:00.100260Z",
     "start_time": "2024-12-18T15:10:00.096300Z"
    }
   },
   "outputs": [
    {
     "name": "stdout",
     "output_type": "stream",
     "text": [
      "Curriculum List\n",
      "\n",
      "Class Num\tClass Name\tBlue/Green\tTeacher\n",
      "C01\t\tGeometry\tBlue\t\tMr.Gall\n",
      "C02\t\tAlgebra 1\tGreen\t\tMs.Wang\n",
      "C03\t\tAP Psychology\tBlue\t\tMr.Lipsky\n"
     ]
    }
   ],
   "source": [
    "# Exercise 2: Printing a formatted table using \\t\n"
   ]
  },
  {
   "cell_type": "code",
   "execution_count": 18,
   "id": "da77981c373ba01d",
   "metadata": {
    "ExecuteTime": {
     "end_time": "2024-12-18T15:10:05.382592Z",
     "start_time": "2024-12-18T15:10:05.379945Z"
    }
   },
   "outputs": [
    {
     "name": "stdout",
     "output_type": "stream",
     "text": [
      "(@) (@)\n",
      "(=^.^=)\n",
      "(-m-m-)\n"
     ]
    }
   ],
   "source": [
    "# Exercise 3: Printing ASCII art of a cute face\n"
   ]
  },
  {
   "cell_type": "code",
   "execution_count": null,
   "id": "9221360685b047da",
   "metadata": {},
   "outputs": [],
   "source": []
  }
 ],
 "metadata": {
  "kernelspec": {
   "display_name": "Python 3 (ipykernel)",
   "language": "python",
   "name": "python3"
  },
  "language_info": {
   "codemirror_mode": {
    "name": "ipython",
    "version": 3
   },
   "file_extension": ".py",
   "mimetype": "text/x-python",
   "name": "python",
   "nbconvert_exporter": "python",
   "pygments_lexer": "ipython3",
   "version": "3.12.1"
  }
 },
 "nbformat": 4,
 "nbformat_minor": 5
}
