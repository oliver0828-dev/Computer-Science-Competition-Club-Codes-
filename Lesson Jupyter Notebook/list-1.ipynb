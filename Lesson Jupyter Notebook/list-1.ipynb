{
  "cells": [
    {
      "cell_type": "markdown",
      "metadata": {
        "id": "Q0UwKqdXdRUs"
      },
      "source": [
        "List can store and work with many variables together. As it can store various files, data can be managed efficiently.\n",
        "\n",
        "List is is collection type variable that can store multiple variables divided by commas(,) within a bracket[]. Each variable, or file that goes within the brackets is called an element of the list.\n"
      ]
    },
    {
      "cell_type": "markdown",
      "metadata": {
        "id": "dTPSph-xdWMg"
      },
      "source": [
        "# **List_Name = [E1, E2, E3, E4, …]**"
      ]
    },
    {
      "cell_type": "markdown",
      "metadata": {
        "id": "Lz2NZ6I9dlx8"
      },
      "source": [
        "# **Printing with List**"
      ]
    },
    {
      "cell_type": "code",
      "execution_count": 2,
      "metadata": {
        "colab": {
          "base_uri": "https://localhost:8080/"
        },
        "id": "w7LiFpAOdaaV",
        "outputId": "381b4740-b3ff-4a8d-a4b8-315840924b14"
      },
      "outputs": [
        {
          "name": "stdout",
          "output_type": "stream",
          "text": [
            "[1, 2, 3, 4, 5]\n",
            "[100, 'hi', 3.14]\n"
          ]
        }
      ],
      "source": [
        "# Example 11 - 1\n",
        "List_a = [1,2,3,4,5]\n",
        "print(List_a)\n",
        "\n",
        "List_b = [100, \"hi\", 3.14]\n",
        "print(List_b)\n"
      ]
    },
    {
      "cell_type": "code",
      "execution_count": 3,
      "metadata": {
        "colab": {
          "base_uri": "https://localhost:8080/"
        },
        "id": "1zGmvMRtdhS8",
        "outputId": "224b4e2e-b816-4755-a209-8a442074e7f7"
      },
      "outputs": [
        {
          "name": "stdout",
          "output_type": "stream",
          "text": [
            "10\n",
            "[True, 3.14]\n"
          ]
        }
      ],
      "source": [
        " #Example 11-2\n",
        "\n",
        " List_a = [10,20,True,3.14,30]\n",
        " print(List_a[0])\n",
        " print(List_a[2:4])\n"
      ]
    },
    {
      "cell_type": "code",
      "execution_count": 4,
      "metadata": {
        "colab": {
          "base_uri": "https://localhost:8080/"
        },
        "id": "iTFGnxrTdjQR",
        "outputId": "54819736-5a1b-490c-8f5b-51a5edc0b5b1"
      },
      "outputs": [
        {
          "name": "stdout",
          "output_type": "stream",
          "text": [
            "[10, 20, True, 3.14, 30]\n",
            "[10, 200, True, 3.14, 30]\n"
          ]
        }
      ],
      "source": [
        " #Example 11-3\n",
        "\n",
        " List_a = [10,20,True,3.14,30]\n",
        " print(List_a)\n",
        "\n",
        " List_a[1] = 200\n",
        " print(List_a)\n",
        "\n"
      ]
    },
    {
      "cell_type": "markdown",
      "metadata": {
        "id": "ZpdAY7uUdtLo"
      },
      "source": [
        "# **List length : len()**"
      ]
    },
    {
      "cell_type": "code",
      "execution_count": 5,
      "metadata": {
        "colab": {
          "base_uri": "https://localhost:8080/"
        },
        "id": "YXwpIzR5duq5",
        "outputId": "3c6a59fa-16d2-4fce-f7bd-e95f881f8f0e"
      },
      "outputs": [
        {
          "name": "stdout",
          "output_type": "stream",
          "text": [
            "6\n"
          ]
        }
      ],
      "source": [
        " #Example 11-4\n",
        " List_a = [1,2,3,4,5,6]\n",
        " length = len(List_a)\n",
        " print(length)"
      ]
    },
    {
      "cell_type": "code",
      "execution_count": 6,
      "metadata": {
        "colab": {
          "base_uri": "https://localhost:8080/"
        },
        "id": "WAZ75Jjddxfs",
        "outputId": "a9df8bcb-9724-4d8e-b194-3436c3200fb8"
      },
      "outputs": [
        {
          "name": "stdout",
          "output_type": "stream",
          "text": [
            "[30, True, 3.14, 'hi']\n",
            "[30, 15, True, 3.14, 'hi']\n"
          ]
        }
      ],
      "source": [
        " #Example 11-5\n",
        " List_a = []\n",
        " List_a.append(30)\n",
        " List_a.append(True)\n",
        " List_a.append(3.14)\n",
        " List_a.append(\"hi\")\n",
        " print(List_a)\n",
        "\n",
        " List_a.insert(1,15)\n",
        " print(List_a)"
      ]
    },
    {
      "cell_type": "markdown",
      "metadata": {
        "id": "UzaBPW8dd0eH"
      },
      "source": [
        "# **List delete : del, pop(), remove(), clear()**"
      ]
    },
    {
      "cell_type": "code",
      "execution_count": 7,
      "metadata": {
        "colab": {
          "base_uri": "https://localhost:8080/"
        },
        "id": "giU6qgIgd9S0",
        "outputId": "2c7303b3-09d1-436d-b516-10a3172057ed"
      },
      "outputs": [
        {
          "name": "stdout",
          "output_type": "stream",
          "text": [
            "[1, 2, 3, 4, 5, 6]\n",
            "[2, 3, 4, 5, 6]\n",
            "[3, 4, 5, 6]\n"
          ]
        }
      ],
      "source": [
        " #Example 11-6\n",
        "\n",
        " List_a = [1,2,3,4,5,6]\n",
        " print(List_a)\n",
        " del List_a[0]\n",
        " print(List_a)\n",
        " del List_a[0]\n",
        " print(List_a)"
      ]
    },
    {
      "cell_type": "code",
      "execution_count": 8,
      "metadata": {
        "colab": {
          "base_uri": "https://localhost:8080/"
        },
        "id": "CAq1jttMd_ia",
        "outputId": "1d43d6d3-d4d0-4d5e-b209-c135a3e744b3"
      },
      "outputs": [
        {
          "name": "stdout",
          "output_type": "stream",
          "text": [
            "[1, 2, 3, 4, 5]\n",
            "[1, 3, 4, 5]\n",
            "6 2\n"
          ]
        }
      ],
      "source": [
        " #Example 11-7\n",
        " List_a = [1,2,3,4,5,6]\n",
        " data1 = List_a.pop()\n",
        " print(List_a)\n",
        " data2 = List_a.pop(1)\n",
        " print(List_a)\n",
        " print(data1,data2)"
      ]
    },
    {
      "cell_type": "markdown",
      "metadata": {
        "id": "ENGpwxT_eCSD"
      },
      "source": [
        "***Remove()***"
      ]
    },
    {
      "cell_type": "code",
      "execution_count": 9,
      "metadata": {
        "colab": {
          "base_uri": "https://localhost:8080/"
        },
        "id": "oGaBnCxweDpA",
        "outputId": "15026f97-428a-4ca4-ea68-07e25606427c"
      },
      "outputs": [
        {
          "name": "stdout",
          "output_type": "stream",
          "text": [
            "[1, 3, 4, 5, 5, 6]\n",
            "[1, 3, 4, 5, 6]\n"
          ]
        }
      ],
      "source": [
        " #Example 11-8\n",
        "\n",
        " List_a = [1,2,3,4,5,5,6]\n",
        "\n",
        " List_a.remove(2)\n",
        " print(List_a)\n",
        " List_a.remove(5)\n",
        " print(List_a)\n"
      ]
    },
    {
      "cell_type": "markdown",
      "metadata": {
        "id": "NATAxLMMeKTv"
      },
      "source": [
        "***clear()***"
      ]
    },
    {
      "cell_type": "code",
      "execution_count": null,
      "metadata": {
        "colab": {
          "base_uri": "https://localhost:8080/"
        },
        "id": "_7MPIkhbePTf",
        "outputId": "202c44bb-aa0c-4046-b618-95a649dca839"
      },
      "outputs": [
        {
          "name": "stdout",
          "output_type": "stream",
          "text": [
            "[1, 2, 3, 4, 5, 6]\n",
            "[]\n"
          ]
        }
      ],
      "source": [
        " #Example 11-9\n",
        " List_a = [1,2,3,4,5,6]\n",
        " print(List_a)\n",
        " List_a.clear()\n",
        " print(List_a)"
      ]
    },
    {
      "cell_type": "markdown",
      "metadata": {
        "id": "857Eh_Q5eUQz"
      },
      "source": [
        "# **List sorting, flipping : sort(), reverse()**"
      ]
    },
    {
      "cell_type": "markdown",
      "metadata": {
        "id": "q48NR3IkeX6B"
      },
      "source": [
        "***sort()***"
      ]
    },
    {
      "cell_type": "code",
      "execution_count": null,
      "metadata": {
        "colab": {
          "base_uri": "https://localhost:8080/"
        },
        "id": "vPTzb8K4eVmb",
        "outputId": "1d752ea8-6314-4098-e3fd-72154d43ac38"
      },
      "outputs": [
        {
          "name": "stdout",
          "output_type": "stream",
          "text": [
            "[-4, -3, 1, 2, 3, 4, 5, 6]\n",
            "[6, 5, 4, 3, 2, 1, -3, -4]\n"
          ]
        }
      ],
      "source": [
        " #Example 11-10\n",
        "\n",
        " List_a = [6,4,2,5,3,1,-4,-3]\n",
        "\n",
        " List_a.sort()\n",
        " print(List_a)\n",
        "\n",
        " List_a.sort(reverse=True)\n",
        " print(List_a)"
      ]
    },
    {
      "cell_type": "markdown",
      "metadata": {
        "id": "v7Kv4myLeaAf"
      },
      "source": [
        "***reverse()***"
      ]
    },
    {
      "cell_type": "code",
      "execution_count": null,
      "metadata": {
        "colab": {
          "base_uri": "https://localhost:8080/"
        },
        "id": "Qcj3bDZoeeXC",
        "outputId": "ca031008-43c8-4b01-aec0-66344dc6c1c9"
      },
      "outputs": [
        {
          "name": "stdout",
          "output_type": "stream",
          "text": [
            "[6, 5, 4, 3, 2, 1]\n"
          ]
        }
      ],
      "source": [
        " #Example 11-11\n",
        " List_a = [1,2,3,4,5,6]\n",
        " List_a.reverse()\n",
        " print(List_a)"
      ]
    },
    {
      "cell_type": "markdown",
      "metadata": {
        "id": "pV85cDifeogs"
      },
      "source": [
        "# **List element number,location counting : count(), index()**"
      ]
    },
    {
      "cell_type": "markdown",
      "metadata": {
        "id": "Bz3p1ymReriD"
      },
      "source": [
        "***count()***"
      ]
    },
    {
      "cell_type": "code",
      "execution_count": null,
      "metadata": {
        "colab": {
          "base_uri": "https://localhost:8080/"
        },
        "id": "vn50qEHxepvS",
        "outputId": "3dd576db-ae7e-4178-b7d3-4412b4d42834"
      },
      "outputs": [
        {
          "name": "stdout",
          "output_type": "stream",
          "text": [
            "3\n",
            "1\n"
          ]
        }
      ],
      "source": [
        " #Example 11-12\n",
        "\n",
        " List_a = [1,2,3,1,2,3,1,2,3,4]\n",
        " print(List_a.count(1))\n",
        " print(List_a.count(4))\n"
      ]
    },
    {
      "cell_type": "markdown",
      "metadata": {
        "id": "TUpe5BvfevEw"
      },
      "source": [
        "***index()***"
      ]
    },
    {
      "cell_type": "code",
      "execution_count": null,
      "metadata": {
        "colab": {
          "base_uri": "https://localhost:8080/"
        },
        "id": "h5Zi_pWlew_q",
        "outputId": "9cb3fa10-f2da-4ad8-d8a6-8240273c2714"
      },
      "outputs": [
        {
          "name": "stdout",
          "output_type": "stream",
          "text": [
            "1\n",
            "0\n"
          ]
        }
      ],
      "source": [
        " #Example 11-13\n",
        " List_a = [1,2,3,1,4,5,6,7]\n",
        " print(List_a.index(2))\n",
        " print(List_a.index(1))"
      ]
    },
    {
      "cell_type": "markdown",
      "metadata": {
        "id": "T78UtDYMe1YB"
      },
      "source": [
        "# **4 common ways to print values of the list**"
      ]
    },
    {
      "cell_type": "markdown",
      "metadata": {
        "id": "BiR7e_Iie1Re"
      },
      "source": [
        "**Raw Output**"
      ]
    },
    {
      "cell_type": "code",
      "execution_count": null,
      "metadata": {
        "colab": {
          "base_uri": "https://localhost:8080/"
        },
        "id": "CHNSuhCme5DS",
        "outputId": "117112ce-e74a-4185-f1b4-f4d3d20b9c3f"
      },
      "outputs": [
        {
          "name": "stdout",
          "output_type": "stream",
          "text": [
            "[1, 2, 3, 4]\n"
          ]
        }
      ],
      "source": [
        " List_a = [1,2,3,4]\n",
        " print(List_a)"
      ]
    },
    {
      "cell_type": "markdown",
      "metadata": {
        "id": "mfrRuZ2ie7-l"
      },
      "source": [
        "**Manual iteration**\n"
      ]
    },
    {
      "cell_type": "code",
      "execution_count": null,
      "metadata": {
        "colab": {
          "base_uri": "https://localhost:8080/"
        },
        "id": "zcK0FAQce_Pp",
        "outputId": "c4636eed-94c0-4b62-ffe0-8b371c42dab2"
      },
      "outputs": [
        {
          "name": "stdout",
          "output_type": "stream",
          "text": [
            "1\n",
            "2\n",
            "3\n",
            "4\n"
          ]
        }
      ],
      "source": [
        " #Example 11-15\n",
        "\n",
        " List_a = [1,2,3,4]\n",
        " print(List_a[0])\n",
        " print(List_a[1])\n",
        " print(List_a[2])\n",
        " print(List_a[3])\n"
      ]
    },
    {
      "cell_type": "markdown",
      "metadata": {
        "id": "KWRyXm0jfBMN"
      },
      "source": [
        "**For iteration w/ i index**"
      ]
    },
    {
      "cell_type": "code",
      "execution_count": 10,
      "metadata": {
        "colab": {
          "base_uri": "https://localhost:8080/"
        },
        "id": "vG5WTfdOfDH_",
        "outputId": "4723fed3-ced0-4222-a0e4-3ab4b9d190fc"
      },
      "outputs": [
        {
          "name": "stdout",
          "output_type": "stream",
          "text": [
            "1\n",
            "2\n",
            "3\n",
            "4\n"
          ]
        }
      ],
      "source": [
        " #Example 11-16\n",
        "\n",
        " List_a = [1,2,3,4]\n",
        " Length = len(List_a)\n",
        " for i in range(Length):\n",
        "       print(List_a[i])"
      ]
    },
    {
      "cell_type": "markdown",
      "metadata": {
        "id": "jNBJnqevfOOU"
      },
      "source": [
        "**For iteration w/ i value**"
      ]
    },
    {
      "cell_type": "code",
      "execution_count": null,
      "metadata": {
        "colab": {
          "base_uri": "https://localhost:8080/"
        },
        "id": "XvG_a1KZfPoX",
        "outputId": "909ae1ea-a229-41e7-cdb7-e4564ff84108"
      },
      "outputs": [
        {
          "name": "stdout",
          "output_type": "stream",
          "text": [
            "1\n",
            "2\n",
            "3\n",
            "4\n"
          ]
        }
      ],
      "source": [
        " #Example 11-17\n",
        "\n",
        " List_a = [1,2,3,4]\n",
        " for i in List_a:\n",
        "       print(i)"
      ]
    },
    {
      "cell_type": "markdown",
      "metadata": {
        "id": "zYPYECZLfYaS"
      },
      "source": [
        "**String list w/o space**"
      ]
    },
    {
      "cell_type": "code",
      "execution_count": null,
      "metadata": {
        "colab": {
          "base_uri": "https://localhost:8080/"
        },
        "id": "fjqXUn5YfaXE",
        "outputId": "c5fe41b5-1544-4229-c101-86077275c478"
      },
      "outputs": [
        {
          "name": "stdout",
          "output_type": "stream",
          "text": [
            "\n",
            "[]\n"
          ]
        }
      ],
      "source": [
        " #Example 11-17\n",
        "\n",
        " List_a = list(input())\n",
        " print(List_a)"
      ]
    },
    {
      "cell_type": "markdown",
      "metadata": {
        "id": "31QRK3ugfdhn"
      },
      "source": [
        "**String list with space**\n"
      ]
    },
    {
      "cell_type": "code",
      "execution_count": 14,
      "metadata": {
        "colab": {
          "base_uri": "https://localhost:8080/"
        },
        "id": "PkT1wbJLffoj",
        "outputId": "3f8b3096-f4c6-4f30-952c-16d1e66cae54"
      },
      "outputs": [
        {
          "name": "stdout",
          "output_type": "stream",
          "text": [
            "['hello']\n"
          ]
        }
      ],
      "source": [
        " #Example 11-16\n",
        "\n",
        " List_a = list(input().split())\n",
        " print(List_a)"
      ]
    },
    {
      "cell_type": "markdown",
      "metadata": {
        "id": "NNNBCNlsfhdD"
      },
      "source": [
        "**Integer list w/o space**\n"
      ]
    },
    {
      "cell_type": "code",
      "execution_count": 15,
      "metadata": {
        "colab": {
          "base_uri": "https://localhost:8080/"
        },
        "id": "i6wPB6-Mfkc1",
        "outputId": "ec89447d-9b3c-442d-89f9-9fe825ddaad4"
      },
      "outputs": [
        {
          "name": "stdout",
          "output_type": "stream",
          "text": [
            "[4]\n"
          ]
        }
      ],
      "source": [
        "#Example 11-15\n",
        "\n",
        "List_a = list(map(int,input()))\n",
        "print(List_a)\n"
      ]
    },
    {
      "cell_type": "markdown",
      "metadata": {
        "id": "-klxybiTfnqL"
      },
      "source": [
        "**Integer list with space**\n"
      ]
    },
    {
      "cell_type": "code",
      "execution_count": 16,
      "metadata": {
        "colab": {
          "base_uri": "https://localhost:8080/",
          "height": 216
        },
        "id": "zOM7wLPcfp0x",
        "outputId": "1de6cdf4-3f54-4211-bde0-0519ea17adcf"
      },
      "outputs": [
        {
          "name": "stdout",
          "output_type": "stream",
          "text": [
            "[5]\n"
          ]
        }
      ],
      "source": [
        " #Example 11-14\n",
        "\n",
        " List_a = list(map(int,input().split()))\n",
        " print(List_a)"
      ]
    },
    {
      "cell_type": "markdown",
      "metadata": {
        "id": "d80fbhGZftR-"
      },
      "source": [
        "# **List Exercises**"
      ]
    },
    {
      "cell_type": "markdown",
      "metadata": {
        "id": "QCA_PtC8fx1u"
      },
      "source": [
        "Problem 1: Make a program that stores and prints elements separated by lines in a list.  \n",
        "**[Input]**:\n",
        " 1\n",
        " 2\n",
        " 3\n",
        " 8\n",
        " 12\n",
        "\n",
        "\n",
        "**[Output]**:\n",
        " 1 2 3 8 12\n"
      ]
    },
    {
      "cell_type": "code",
      "execution_count": null,
      "metadata": {
        "id": "wFdki3CUfw7w"
      },
      "outputs": [],
      "source": [
        "# Problem 1\n",
        "\n",
        "\n",
        "\n"
      ]
    },
    {
      "cell_type": "markdown",
      "metadata": {
        "id": "FhKB4D0Of7T6"
      },
      "source": [
        "Problem 2: Make a program that stores and prints elements separated by space in a list.\n",
        "\n",
        "\n",
        "**[Input]:** 1 2 3 8 12\n",
        "\n",
        "\n",
        "**[Output]:** 1 2 3 8 12\n"
      ]
    },
    {
      "cell_type": "code",
      "execution_count": null,
      "metadata": {
        "id": "VwadRerlfvy-"
      },
      "outputs": [],
      "source": [
        "# Problem 2\n",
        "\n",
        "\n",
        "\n"
      ]
    },
    {
      "cell_type": "markdown",
      "metadata": {
        "id": "JxB-Z512gQqI"
      },
      "source": [
        "Problem 3: Make a program that stores and prints elements separated by lines in a list in reverse order\n",
        "\n",
        "**[Input]:**\n",
        " 1\n",
        " 2\n",
        " 3\n",
        " 8\n",
        " 12\n",
        "\n",
        "\n",
        "**[Output]:**\n",
        " 12 8 3 2 1\n",
        "\n",
        "\n",
        "\n",
        "\n",
        "\n",
        "\n",
        "\n",
        "\n"
      ]
    },
    {
      "cell_type": "code",
      "execution_count": null,
      "metadata": {
        "id": "OmbCRSdcgQJU"
      },
      "outputs": [],
      "source": [
        "# Problem 3\n",
        "\n",
        "\n",
        "\n"
      ]
    },
    {
      "cell_type": "markdown",
      "metadata": {
        "id": "3qewcOhigfi_"
      },
      "source": [
        "Problem 4: Make a program that stores and prints elements separated by space in a list in reverse order\n",
        "\n",
        " **[Input]:**\n",
        " 1 2 3 8 12\n",
        "\n",
        "\n",
        " **[Output]:**\n",
        " 12 8 3 2 1\n"
      ]
    },
    {
      "cell_type": "code",
      "execution_count": null,
      "metadata": {
        "id": "Ht05hOx8gm_t"
      },
      "outputs": [],
      "source": [
        "# Problem 4\n",
        "\n",
        "\n",
        "\n"
      ]
    },
    {
      "cell_type": "markdown",
      "metadata": {
        "id": "SwPQispVgq2F"
      },
      "source": [
        "Problem 5: Make a program that gets input and prints out integers over 100.\n",
        "  \n",
        "  **[Input]:**\n",
        " 10 120 30 260 90 110 140\n",
        "\n",
        "\n",
        " **[Output]:**\n",
        " 120 260 110 140\n"
      ]
    },
    {
      "cell_type": "code",
      "execution_count": null,
      "metadata": {
        "id": "UQ6cZntQgw4M"
      },
      "outputs": [],
      "source": [
        "# Problem 5\n",
        "\n",
        "\n",
        "\n"
      ]
    },
    {
      "cell_type": "markdown",
      "metadata": {
        "id": "pTRJUY6agynl"
      },
      "source": [
        "Problem 6: Make a program that stores 10 integers, puts it in increasing order, then prints them\n",
        "  \n",
        "  **[Input]:**\n",
        " 3 8 3 -7 31 8 34 8 -234\n",
        "\n",
        "\n",
        " **[Output]:**\n",
        " -234 -7 3 3 8 8 8 31 34\n",
        "\n"
      ]
    },
    {
      "cell_type": "code",
      "execution_count": null,
      "metadata": {
        "id": "NTHI6bLKg4pA"
      },
      "outputs": [],
      "source": [
        "# Problem 6\n",
        "\n",
        "\n",
        "\n",
        "\n"
      ]
    },
    {
      "cell_type": "markdown",
      "metadata": {
        "id": "iTS4tO2pg9Hb"
      },
      "source": [
        "Problem 7: Make a program that inputs 10 integers and prints largest value under 100 and largest value above 100.\n",
        "\n",
        "  **[Input]:**\n",
        " 88 123 659 15 443 1 99 31 105 48\n",
        "\n",
        "\n",
        " **[Output]:**\n",
        " 99 105\n"
      ]
    },
    {
      "cell_type": "code",
      "execution_count": null,
      "metadata": {
        "id": "ByCaS4cyhC-5"
      },
      "outputs": [],
      "source": [
        "# Problem 7\n",
        "\n",
        "\n",
        "\n",
        "\n"
      ]
    },
    {
      "cell_type": "markdown",
      "metadata": {
        "id": "emu6EUJChEuo"
      },
      "source": [
        "Problem 7: Make a program that inputs integers indefinitely until 0 is inputted, organize all the integers inputted except for the 0, and prints them in order.\n",
        "\n",
        "  **[Input]:**\n",
        " 2\n",
        " 7\n",
        " 3\n",
        " -17\n",
        " 12\n",
        " 36\n",
        " 0\n",
        "\n",
        "\n",
        " **[Output]:**\n",
        " -17 2 3 7 12 36\n",
        "\n"
      ]
    },
    {
      "cell_type": "code",
      "execution_count": null,
      "metadata": {
        "id": "ZZ3-oJ90hMws"
      },
      "outputs": [],
      "source": [
        "# Problem 8\n",
        "\n",
        "\n",
        "\n",
        "\n"
      ]
    }
  ],
  "metadata": {
    "colab": {
      "provenance": []
    },
    "kernelspec": {
      "display_name": "Python 3 (ipykernel)",
      "language": "python",
      "name": "python3"
    },
    "language_info": {
      "codemirror_mode": {
        "name": "ipython",
        "version": 3
      },
      "file_extension": ".py",
      "mimetype": "text/x-python",
      "name": "python",
      "nbconvert_exporter": "python",
      "pygments_lexer": "ipython3",
      "version": "3.12.1"
    }
  },
  "nbformat": 4,
  "nbformat_minor": 0
}
